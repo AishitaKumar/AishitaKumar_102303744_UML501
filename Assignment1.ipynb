{
 "cells": [
  {
   "cell_type": "markdown",
   "id": "bdc96d87",
   "metadata": {},
   "source": [
    "Assignment 1\n",
    "\n",
    "Aishita Kumar, 102303744"
   ]
  },
  {
   "cell_type": "markdown",
   "id": "13948095",
   "metadata": {},
   "source": [
    "Q1: Questions on Basic NumPy Array:"
   ]
  },
  {
   "cell_type": "code",
   "execution_count": 1,
   "id": "05997e98",
   "metadata": {},
   "outputs": [],
   "source": [
    "import numpy as np"
   ]
  },
  {
   "cell_type": "markdown",
   "id": "0879e0f1",
   "metadata": {},
   "source": [
    "(a) Reverse the NumPy array: arr = np.array([1, 2, 3, 6, 4, 5])\n"
   ]
  },
  {
   "cell_type": "code",
   "execution_count": null,
   "id": "3d78731f",
   "metadata": {},
   "outputs": [
    {
     "name": "stdout",
     "output_type": "stream",
     "text": [
      "[5 4 6 3 2 1]\n"
     ]
    }
   ],
   "source": [
    "array = np.array([1, 2, 3, 6, 4, 5])\n",
    "rev_arr = array[::-1]\n",
    "print(rev_arr)"
   ]
  },
  {
   "cell_type": "markdown",
   "id": "420f1372",
   "metadata": {},
   "source": [
    "(b) Flatten the NumPy arr: array1 = np.array([[1, 2, 3], [2, 4, 5], [1, 2, 3]]) using any two NumPy in-built methods"
   ]
  },
  {
   "cell_type": "code",
   "execution_count": null,
   "id": "51c46892",
   "metadata": {},
   "outputs": [
    {
     "name": "stdout",
     "output_type": "stream",
     "text": [
      "[1 2 3 2 4 5 1 2 3]\n",
      "[1 2 3 2 4 5 1 2 3]\n"
     ]
    }
   ],
   "source": [
    "array1 = np.array([[1, 2, 3], [2, 4, 5], [1, 2, 3]])\n",
    "\n",
    "flat1 = array1.flatten()\n",
    "print(flat1)\n",
    "\n",
    "flat2 = array1.ravel()\n",
    "print(flat2)"
   ]
  },
  {
   "cell_type": "markdown",
   "id": "13df9d19",
   "metadata": {},
   "source": [
    "(c) Compare the following numpy arrays:\n",
    "        arr1 = np.array([[1, 2], [3, 4]])\n",
    "        arr2 = np.array([[1, 2], [3, 4]])"
   ]
  },
  {
   "cell_type": "code",
   "execution_count": null,
   "id": "ae4b2416",
   "metadata": {},
   "outputs": [
    {
     "name": "stdout",
     "output_type": "stream",
     "text": [
      "True\n",
      "True\n"
     ]
    }
   ],
   "source": [
    "arr1 = np.array([[1, 2], [3, 4]])\n",
    "arr2 = np.array([[1, 2], [3, 4]])\n",
    "\n",
    "print(np.array_equal(arr1, arr2)) \n",
    "\n",
    "print((arr1 == arr2).all())       \n"
   ]
  },
  {
   "cell_type": "markdown",
   "id": "b9844f5a",
   "metadata": {},
   "source": [
    "(d) Find the most frequent value and their indice(s) in the following arrays:\n",
    "\n",
    "    i. x = np.array([1,2,3,4,5,1,2,1,1,1])\n",
    "    ii. y = np.array([1, 1, 1, 2, 3, 4, 2, 4, 3, 3, ]) \n"
   ]
  },
  {
   "cell_type": "code",
   "execution_count": null,
   "id": "ae56857f",
   "metadata": {},
   "outputs": [
    {
     "name": "stdout",
     "output_type": "stream",
     "text": [
      "Most frequent in x: 1 | Indices: [0 5 7 8 9]\n",
      "Most frequent in y: 1 | Indices: [0 1 2]\n"
     ]
    }
   ],
   "source": [
    "x = np.array([1, 2, 3, 4, 5, 1, 2, 1, 1, 1])\n",
    "unique, counts = np.unique(x, return_counts=True)\n",
    "mostfreq = unique[np.argmax(counts)]\n",
    "indicesx = np.where(x == mostfreq)[0]\n",
    "print(\"Most frequent in x:\", mostfreq, \"| Indices:\", indicesx)\n",
    "\n",
    "y = np.array([1, 1, 1, 2, 3, 4, 2, 4, 3, 3])\n",
    "unique, counts = np.unique(y, return_counts=True)\n",
    "mostfreq = unique[np.argmax(counts)]\n",
    "indicesy = np.where(y == mostfreq)[0]\n",
    "print(\"Most frequent in y:\", mostfreq, \"| Indices:\", indicesy)\n"
   ]
  },
  {
   "cell_type": "markdown",
   "id": "1979c1f5",
   "metadata": {},
   "source": [
    "(e) For the array gfg = np.matrix('[4, 1, 9; 12, 3, 1; 4, 5, 6]'), find\n",
    "\n",
    "    i. Sum of all elements \n",
    "    ii. Sum of all elements row-wise\n",
    "    iii. Sum of all elements column-wise"
   ]
  },
  {
   "cell_type": "code",
   "execution_count": 8,
   "id": "c5fd3af2",
   "metadata": {},
   "outputs": [
    {
     "name": "stdout",
     "output_type": "stream",
     "text": [
      "Total sum: 45\n",
      "Row-wise sum:\n",
      " [[14]\n",
      " [16]\n",
      " [15]]\n",
      "Column-wise sum:\n",
      " [[20  9 16]]\n"
     ]
    }
   ],
   "source": [
    "gfg = np.matrix('[4, 1, 9; 12, 3, 1; 4, 5, 6]')\n",
    "\n",
    "sum=gfg.sum()\n",
    "print(\"Total sum:\", sum)\n",
    "\n",
    "rowsum=gfg.sum(axis=1)\n",
    "print(\"Row-wise sum:\\n\", rowsum)\n",
    "\n",
    "colsum=gfg.sum(axis=0)\n",
    "print(\"Column-wise sum:\\n\",colsum )\n"
   ]
  },
  {
   "cell_type": "markdown",
   "id": "f23f3e10",
   "metadata": {},
   "source": [
    "(f) For the matrix: n_array = np.array([[55, 25, 15],[30, 44, 2],[11, 45, 77]]), find\n",
    "\n",
    "    i. Sum of diagonal elements\n",
    "    ii. Eigen values of matrix\n",
    "    iii. Eigen vectors of matrix\n",
    "    iv. Inverse of matrix\n",
    "    v. Determinant of matrix \n"
   ]
  },
  {
   "cell_type": "code",
   "execution_count": 7,
   "id": "4851df30",
   "metadata": {},
   "outputs": [
    {
     "name": "stdout",
     "output_type": "stream",
     "text": [
      "Diagonal sum: 176\n",
      "Eigenvalues:\n",
      " [98.16835147 28.097044   49.73460452]\n",
      "Eigenvectors:\n",
      " [[ 0.4574917   0.34637121 -0.15017693]\n",
      " [ 0.28447814 -0.72784061 -0.4852124 ]\n",
      " [ 0.84248058  0.59184038  0.8614034 ]]\n",
      "Inverse:\n",
      " [[ 0.02404141 -0.00911212 -0.00444671]\n",
      " [-0.01667882  0.02966905  0.0024785 ]\n",
      " [ 0.00631287 -0.01603732  0.01217379]]\n",
      "Determinant: 137180.0000000001\n"
     ]
    }
   ],
   "source": [
    "n_array = np.array([[55, 25, 15], [30, 44, 2], [11, 45, 77]])\n",
    "\n",
    "diasum=np.trace(n_array)\n",
    "print(\"Diagonal sum:\", diasum)\n",
    "\n",
    "eigenvals = np.linalg.eigvals(n_array)\n",
    "print(\"Eigenvalues:\\n\", eigenvals)\n",
    "\n",
    "eigenvals, eigenvecs = np.linalg.eig(n_array)\n",
    "print(\"Eigenvectors:\\n\", eigenvecs)\n",
    "\n",
    "inverse = np.linalg.inv(n_array)\n",
    "print(\"Inverse:\\n\", inverse)\n",
    "\n",
    "det = np.linalg.det(n_array)\n",
    "print(\"Determinant:\", det)\n"
   ]
  },
  {
   "cell_type": "markdown",
   "id": "1067ff59",
   "metadata": {},
   "source": [
    "(g) Multiply the following matrices and also find covariance between matrices using NumPy:\n",
    "\n",
    "    i. p = [[1, 2], [2, 3]]\n",
    "       q = [[4, 5], [6, 7]]\n",
    "    ii. p = [[1, 2], [2, 3], [4, 5]]\n",
    "        q = [[4, 5, 1], [6, 7, 2]]\n",
    " "
   ]
  },
  {
   "cell_type": "code",
   "execution_count": null,
   "id": "f88456ae",
   "metadata": {},
   "outputs": [
    {
     "name": "stdout",
     "output_type": "stream",
     "text": [
      "Product 1 :\n",
      " [[16 19]\n",
      " [26 31]]\n",
      "Covariance 1 :\n",
      " [[0.5 0.5 1.  1. ]\n",
      " [0.5 0.5 1.  1. ]\n",
      " [1.  1.  2.  2. ]\n",
      " [1.  1.  2.  2. ]]\n",
      "Product 2:\n",
      " [[16 19  5]\n",
      " [26 31  8]\n",
      " [46 55 14]]\n",
      "Covariance 2:\n",
      " [[2.16666667 0.23333333]\n",
      " [0.23333333 5.36666667]]\n"
     ]
    }
   ],
   "source": [
    "p1 = np.array([[1, 2], [2, 3]])\n",
    "q1 = np.array([[4, 5], [6, 7]])\n",
    "\n",
    "prod1 = np.dot(p1, q1)\n",
    "print(\"Product 1 :\\n\", prod1)\n",
    "\n",
    "cov1 = np.cov(p1.T, q1.T)\n",
    "print(\"Covariance 1 :\\n\", cov1)\n",
    "\n",
    "p2 = np.array([[1, 2], [2, 3], [4, 5]])\n",
    "q2 = np.array([[4, 5, 1], [6, 7, 2]])\n",
    "\n",
    "prod2 = np.dot(p2, q2)\n",
    "print(\"Product 2:\\n\", prod2)\n",
    "\n",
    "pf = p2.flatten()\n",
    "qf = q2.flatten()[:pf.size]\n",
    "\n",
    "cov2 = np.cov(pf, qf)\n",
    "print(\"Covariance 2:\\n\", cov2)\n",
    "\n",
    "\n"
   ]
  },
  {
   "cell_type": "markdown",
   "id": "b9350374",
   "metadata": {},
   "source": [
    "(h) For the matrices: x = np.array([[2, 3, 4], [3, 2, 9]]); y = np.array([[1, 5, 0], [5, 10, 3]]),\n",
    "find inner, outer and cartesian product?\n"
   ]
  },
  {
   "cell_type": "code",
   "execution_count": 11,
   "id": "74c8c3f4",
   "metadata": {},
   "outputs": [
    {
     "name": "stdout",
     "output_type": "stream",
     "text": [
      "Inner product:\n",
      " [[17 52]\n",
      " [13 62]]\n",
      "Outer product:\n",
      " [[ 2 10  0 10 20  6]\n",
      " [ 3 15  0 15 30  9]\n",
      " [ 4 20  0 20 40 12]\n",
      " [ 3 15  0 15 30  9]\n",
      " [ 2 10  0 10 20  6]\n",
      " [ 9 45  0 45 90 27]]\n",
      "Cartesian product:\n",
      " [[ 2  1]\n",
      " [ 2  5]\n",
      " [ 2  0]\n",
      " [ 2  5]\n",
      " [ 2 10]\n",
      " [ 2  3]\n",
      " [ 3  1]\n",
      " [ 3  5]\n",
      " [ 3  0]\n",
      " [ 3  5]\n",
      " [ 3 10]\n",
      " [ 3  3]\n",
      " [ 4  1]\n",
      " [ 4  5]\n",
      " [ 4  0]\n",
      " [ 4  5]\n",
      " [ 4 10]\n",
      " [ 4  3]\n",
      " [ 3  1]\n",
      " [ 3  5]\n",
      " [ 3  0]\n",
      " [ 3  5]\n",
      " [ 3 10]\n",
      " [ 3  3]\n",
      " [ 2  1]\n",
      " [ 2  5]\n",
      " [ 2  0]\n",
      " [ 2  5]\n",
      " [ 2 10]\n",
      " [ 2  3]\n",
      " [ 9  1]\n",
      " [ 9  5]\n",
      " [ 9  0]\n",
      " [ 9  5]\n",
      " [ 9 10]\n",
      " [ 9  3]]\n"
     ]
    }
   ],
   "source": [
    "x = np.array([[2, 3, 4], [3, 2, 9]])\n",
    "y = np.array([[1, 5, 0], [5, 10, 3]])\n",
    "\n",
    "inprod = np.inner(x, y)\n",
    "print(\"Inner product:\\n\", inprod)\n",
    "\n",
    "outprod = np.outer(x.flatten(), y.flatten())\n",
    "print(\"Outer product:\\n\", outprod)\n",
    "\n",
    "cartprod = np.array(np.meshgrid(x.flatten(), y.flatten())).T.reshape(-1, 2)\n",
    "print(\"Cartesian product:\\n\", cartprod)\n"
   ]
  },
  {
   "cell_type": "markdown",
   "id": "52b3112f",
   "metadata": {},
   "source": [
    "Q2. (a) For the array: array = np.array([[1, -2, 3],[-4, 5, -6]])\n",
    "\n",
    "       i. Find element-wise absolute value\n",
    "       ii. Find the 25th, 50th, and 75th percentile of flattened array, for each column, for each row.\n",
    "       iii. Mean, Median and Standard Deviation of flattened array, of each column, and each row \n"
   ]
  },
  {
   "cell_type": "code",
   "execution_count": 15,
   "id": "c98e3697",
   "metadata": {},
   "outputs": [
    {
     "name": "stdout",
     "output_type": "stream",
     "text": [
      "Absolute:\n",
      " [[1 2 3]\n",
      " [4 5 6]]\n",
      "Flattened percentiles: 25th = -3.5 , 50th = -0.5 , 75th = 2.5\n",
      "Column-wise percentiles :\n",
      " [[-2.75 -0.25 -3.75]\n",
      " [-1.5   1.5  -1.5 ]\n",
      " [-0.25  3.25  0.75]]\n",
      "Row-wise percentiles :\n",
      " [[-0.5 -5. ]\n",
      " [ 1.  -4. ]\n",
      " [ 2.   0.5]]\n",
      "Flattened: Mean = -0.5 , Median = -0.5 , Std Dev = 3.8622100754188224\n",
      "Column-wise mean: [-1.5  1.5 -1.5]\n",
      "Column-wise median: [-1.5  1.5 -1.5]\n",
      "Column-wise std: [2.5 3.5 4.5]\n",
      "Row-wise mean: [ 0.66666667 -1.66666667]\n",
      "Row-wise median: [ 1. -4.]\n",
      "Row-wise std: [2.05480467 4.78423336]\n"
     ]
    }
   ],
   "source": [
    "array = np.array([[1, -2, 3], [-4, 5, -6]])\n",
    "\n",
    "absval = np.abs(array)\n",
    "print(\"Absolute:\\n\", absval)\n",
    "\n",
    "flat = array.flatten()\n",
    "p25 = np.percentile(flat, 25)\n",
    "p50 = np.percentile(flat, 50)  \n",
    "p75 = np.percentile(flat, 75)\n",
    "print(\"Flattened percentiles: 25th =\", p25, \", 50th =\", p50, \", 75th =\", p75)\n",
    "\n",
    "pcol = np.percentile(array, [25, 50, 75], axis=0)\n",
    "print(\"Column-wise percentiles :\\n\", pcol)\n",
    "\n",
    "prow = np.percentile(array, [25, 50, 75], axis=1)\n",
    "print(\"Row-wise percentiles :\\n\", prow)\n",
    "\n",
    "meanf = np.mean(flat)\n",
    "medianf = np.median(flat)\n",
    "stdf = np.std(flat)\n",
    "print(\"Flattened: Mean =\", meanf, \", Median =\", medianf, \", Std Dev =\", stdf)\n",
    "\n",
    "print(\"Column-wise mean:\", np.mean(array, axis=0))\n",
    "print(\"Column-wise median:\", np.median(array, axis=0))\n",
    "print(\"Column-wise std:\", np.std(array, axis=0))\n",
    "\n",
    "print(\"Row-wise mean:\", np.mean(array, axis=1))\n",
    "print(\"Row-wise median:\", np.median(array, axis=1))\n",
    "print(\"Row-wise std:\", np.std(array, axis=1))\n",
    "\n",
    "\n"
   ]
  },
  {
   "cell_type": "markdown",
   "id": "c3751a62",
   "metadata": {},
   "source": [
    "Q2.(b) For the array: a = np.array([-1.8, -1.6, -0.5, 0.5,1.6, 1.8, 3.0]). Find floor, ceiling\n",
    "and truncated value, rounded values"
   ]
  },
  {
   "cell_type": "code",
   "execution_count": 16,
   "id": "81b89e81",
   "metadata": {},
   "outputs": [
    {
     "name": "stdout",
     "output_type": "stream",
     "text": [
      "Floor: [-2. -2. -1.  0.  1.  1.  3.]\n",
      "Ceiling: [-1. -1. -0.  1.  2.  2.  3.]\n",
      "Truncated: [-1. -1. -0.  0.  1.  1.  3.]\n",
      "Rounded: [-2. -2. -0.  0.  2.  2.  3.]\n"
     ]
    }
   ],
   "source": [
    "a = np.array([-1.8, -1.6, -0.5, 0.5, 1.6, 1.8, 3.0])\n",
    "\n",
    "print(\"Floor:\", np.floor(a))\n",
    "print(\"Ceiling:\", np.ceil(a))\n",
    "print(\"Truncated:\", np.trunc(a))\n",
    "print(\"Rounded:\", np.round(a))\n",
    "\n"
   ]
  },
  {
   "cell_type": "markdown",
   "id": "6b5bc782",
   "metadata": {},
   "source": [
    "Q3. (a) For the array: array = np.array([10, 52, 62, 16, 16, 54, 453]), find\n",
    "\n",
    "        i. Sorted array\n",
    "        ii. Indices of sorted array\n",
    "        iii. 4 smallest elements\n",
    "        iv. 5 largest elements \n"
   ]
  },
  {
   "cell_type": "code",
   "execution_count": 18,
   "id": "5a0379aa",
   "metadata": {},
   "outputs": [
    {
     "name": "stdout",
     "output_type": "stream",
     "text": [
      "Sorted array: [ 10  16  16  52  54  62 453]\n",
      "Indices of sorted array: [0 3 4 1 5 2 6]\n",
      "4 smallest elements: [10 16 16 52]\n",
      "5 largest elements: [ 16  52  54  62 453]\n"
     ]
    }
   ],
   "source": [
    "array = np.array([10, 52, 62, 16, 16, 54, 453])\n",
    "\n",
    "sortarr = np.sort(array)\n",
    "print(\"Sorted array:\", sortarr)\n",
    "\n",
    "sortedindices = np.argsort(array)\n",
    "print(\"Indices of sorted array:\", sortedindices)\n",
    "\n",
    "small4 = np.sort(array)[:4]\n",
    "print(\"4 smallest elements:\", small4)\n",
    "\n",
    "large5 = np.sort(array)[-5:]\n",
    "print(\"5 largest elements:\", large5)\n",
    "\n"
   ]
  },
  {
   "cell_type": "markdown",
   "id": "7cf0fdb1",
   "metadata": {},
   "source": [
    "Q3.(b) For the array: array = np.array([1.0, 1.2, 2.2, 2.0, 3.0, 2.0]), find\n",
    "\n",
    "       i. Integer elements only\n",
    "       ii. Float elements only "
   ]
  },
  {
   "cell_type": "code",
   "execution_count": 21,
   "id": "dd60ff96",
   "metadata": {},
   "outputs": [
    {
     "name": "stdout",
     "output_type": "stream",
     "text": [
      "Integer elements only: [1. 2. 3. 2.]\n",
      "Float elements only: [1.2 2.2]\n"
     ]
    }
   ],
   "source": [
    "array = np.array([1.0, 1.2, 2.2, 2.0, 3.0, 2.0])\n",
    "\n",
    "integers = array[array == array.astype(int)]\n",
    "print(\"Integer elements only:\", integers)\n",
    "\n",
    "floats = array[array != array.astype(int)]\n",
    "print(\"Float elements only:\", floats)\n"
   ]
  },
  {
   "cell_type": "markdown",
   "id": "2d310881",
   "metadata": {},
   "source": [
    "Q4: (a) Write a function named img_to_array(path) that reads an image from a specified path and save it as text file on local machine? (Note: use separate cases for RGB and Grey Scale images) \n"
   ]
  },
  {
   "cell_type": "code",
   "execution_count": 23,
   "id": "b37dbf0c",
   "metadata": {},
   "outputs": [
    {
     "name": "stdout",
     "output_type": "stream",
     "text": [
      "Collecting opencv-python\n",
      "  Downloading opencv_python-4.12.0.88-cp37-abi3-win_amd64.whl.metadata (19 kB)\n",
      "Collecting numpy<2.3.0,>=2 (from opencv-python)\n",
      "  Downloading numpy-2.2.6-cp313-cp313-win_amd64.whl.metadata (60 kB)\n",
      "Downloading opencv_python-4.12.0.88-cp37-abi3-win_amd64.whl (39.0 MB)\n",
      "   ---------------------------------------- 0.0/39.0 MB ? eta -:--:--\n",
      "    --------------------------------------- 0.5/39.0 MB 3.4 MB/s eta 0:00:12\n",
      "   - -------------------------------------- 1.3/39.0 MB 3.3 MB/s eta 0:00:12\n",
      "   - -------------------------------------- 1.8/39.0 MB 3.2 MB/s eta 0:00:12\n",
      "   -- ------------------------------------- 2.6/39.0 MB 3.3 MB/s eta 0:00:12\n",
      "   --- ------------------------------------ 3.4/39.0 MB 3.4 MB/s eta 0:00:11\n",
      "   ---- ----------------------------------- 4.2/39.0 MB 3.5 MB/s eta 0:00:10\n",
      "   ----- ---------------------------------- 5.0/39.0 MB 3.5 MB/s eta 0:00:10\n",
      "   ----- ---------------------------------- 5.5/39.0 MB 3.3 MB/s eta 0:00:11\n",
      "   ------ --------------------------------- 6.3/39.0 MB 3.5 MB/s eta 0:00:10\n",
      "   ------- -------------------------------- 7.3/39.0 MB 3.5 MB/s eta 0:00:09\n",
      "   -------- ------------------------------- 8.4/39.0 MB 3.7 MB/s eta 0:00:09\n",
      "   --------- ------------------------------ 9.2/39.0 MB 3.8 MB/s eta 0:00:08\n",
      "   ---------- ----------------------------- 10.5/39.0 MB 3.9 MB/s eta 0:00:08\n",
      "   ----------- ---------------------------- 11.3/39.0 MB 3.9 MB/s eta 0:00:08\n",
      "   ------------ --------------------------- 12.3/39.0 MB 3.9 MB/s eta 0:00:07\n",
      "   ------------- -------------------------- 13.1/39.0 MB 3.9 MB/s eta 0:00:07\n",
      "   -------------- ------------------------- 14.2/39.0 MB 4.0 MB/s eta 0:00:07\n",
      "   --------------- ------------------------ 15.2/39.0 MB 4.0 MB/s eta 0:00:06\n",
      "   ---------------- ----------------------- 16.0/39.0 MB 4.1 MB/s eta 0:00:06\n",
      "   ----------------- ---------------------- 17.0/39.0 MB 4.1 MB/s eta 0:00:06\n",
      "   ------------------ --------------------- 18.1/39.0 MB 4.1 MB/s eta 0:00:06\n",
      "   ------------------- -------------------- 18.9/39.0 MB 4.1 MB/s eta 0:00:05\n",
      "   -------------------- ------------------- 19.7/39.0 MB 4.1 MB/s eta 0:00:05\n",
      "   --------------------- ------------------ 20.7/39.0 MB 4.1 MB/s eta 0:00:05\n",
      "   ---------------------- ----------------- 21.5/39.0 MB 4.1 MB/s eta 0:00:05\n",
      "   ----------------------- ---------------- 22.5/39.0 MB 4.2 MB/s eta 0:00:04\n",
      "   ------------------------ --------------- 23.6/39.0 MB 4.2 MB/s eta 0:00:04\n",
      "   ------------------------- -------------- 24.4/39.0 MB 4.2 MB/s eta 0:00:04\n",
      "   -------------------------- ------------- 25.4/39.0 MB 4.2 MB/s eta 0:00:04\n",
      "   --------------------------- ------------ 26.5/39.0 MB 4.2 MB/s eta 0:00:03\n",
      "   ---------------------------- ----------- 27.5/39.0 MB 4.2 MB/s eta 0:00:03\n",
      "   ----------------------------- ---------- 28.3/39.0 MB 4.3 MB/s eta 0:00:03\n",
      "   ------------------------------ --------- 29.4/39.0 MB 4.3 MB/s eta 0:00:03\n",
      "   ------------------------------- -------- 30.4/39.0 MB 4.3 MB/s eta 0:00:03\n",
      "   -------------------------------- ------- 31.5/39.0 MB 4.3 MB/s eta 0:00:02\n",
      "   --------------------------------- ------ 32.5/39.0 MB 4.3 MB/s eta 0:00:02\n",
      "   ---------------------------------- ----- 33.3/39.0 MB 4.3 MB/s eta 0:00:02\n",
      "   ----------------------------------- ---- 34.3/39.0 MB 4.3 MB/s eta 0:00:02\n",
      "   ------------------------------------ --- 35.1/39.0 MB 4.3 MB/s eta 0:00:01\n",
      "   ------------------------------------- -- 36.2/39.0 MB 4.3 MB/s eta 0:00:01\n",
      "   -------------------------------------- - 37.2/39.0 MB 4.3 MB/s eta 0:00:01\n",
      "   ---------------------------------------  38.3/39.0 MB 4.4 MB/s eta 0:00:01\n",
      "   ---------------------------------------  38.8/39.0 MB 4.4 MB/s eta 0:00:01\n",
      "   ---------------------------------------- 39.0/39.0 MB 4.3 MB/s eta 0:00:00\n",
      "Downloading numpy-2.2.6-cp313-cp313-win_amd64.whl (12.6 MB)\n",
      "   ---------------------------------------- 0.0/12.6 MB ? eta -:--:--\n",
      "   -- ------------------------------------- 0.8/12.6 MB 4.1 MB/s eta 0:00:03\n",
      "   ----- ---------------------------------- 1.8/12.6 MB 4.5 MB/s eta 0:00:03\n",
      "   --------- ------------------------------ 2.9/12.6 MB 4.6 MB/s eta 0:00:03\n",
      "   ------------ --------------------------- 3.9/12.6 MB 4.6 MB/s eta 0:00:02\n",
      "   -------------- ------------------------- 4.7/12.6 MB 4.6 MB/s eta 0:00:02\n",
      "   ------------------ --------------------- 5.8/12.6 MB 4.6 MB/s eta 0:00:02\n",
      "   --------------------- ------------------ 6.8/12.6 MB 4.7 MB/s eta 0:00:02\n",
      "   ------------------------ --------------- 7.6/12.6 MB 4.6 MB/s eta 0:00:02\n",
      "   --------------------------- ------------ 8.7/12.6 MB 4.5 MB/s eta 0:00:01\n",
      "   ----------------------------- ---------- 9.4/12.6 MB 4.5 MB/s eta 0:00:01\n",
      "   --------------------------------- ------ 10.5/12.6 MB 4.5 MB/s eta 0:00:01\n",
      "   ----------------------------------- ---- 11.3/12.6 MB 4.5 MB/s eta 0:00:01\n",
      "   ---------------------------------------  12.3/12.6 MB 4.5 MB/s eta 0:00:01\n",
      "   ---------------------------------------- 12.6/12.6 MB 4.5 MB/s eta 0:00:00\n",
      "Installing collected packages: numpy, opencv-python\n",
      "\n",
      "  Attempting uninstall: numpy\n",
      "\n",
      "    Found existing installation: numpy 2.3.1\n",
      "\n",
      "   ---------------------------------------- 0/2 [numpy]\n",
      "    Uninstalling numpy-2.3.1:\n",
      "   ---------------------------------------- 0/2 [numpy]\n",
      "   ---------------------------------------- 0/2 [numpy]\n",
      "      Successfully uninstalled numpy-2.3.1\n",
      "   ---------------------------------------- 0/2 [numpy]\n",
      "   ---------------------------------------- 0/2 [numpy]\n",
      "   ---------------------------------------- 0/2 [numpy]\n",
      "   ---------------------------------------- 0/2 [numpy]\n",
      "   ---------------------------------------- 0/2 [numpy]\n",
      "   ---------------------------------------- 0/2 [numpy]\n",
      "   ---------------------------------------- 0/2 [numpy]\n",
      "   ---------------------------------------- 0/2 [numpy]\n",
      "   ---------------------------------------- 0/2 [numpy]\n",
      "   ---------------------------------------- 0/2 [numpy]\n",
      "   ---------------------------------------- 0/2 [numpy]\n",
      "   ---------------------------------------- 0/2 [numpy]\n",
      "   ---------------------------------------- 0/2 [numpy]\n",
      "   ---------------------------------------- 0/2 [numpy]\n",
      "   ---------------------------------------- 0/2 [numpy]\n",
      "   ---------------------------------------- 0/2 [numpy]\n",
      "   ---------------------------------------- 0/2 [numpy]\n",
      "   ---------------------------------------- 0/2 [numpy]\n",
      "   ---------------------------------------- 0/2 [numpy]\n",
      "   ---------------------------------------- 0/2 [numpy]\n",
      "   ---------------------------------------- 0/2 [numpy]\n",
      "   ---------------------------------------- 0/2 [numpy]\n",
      "   ---------------------------------------- 0/2 [numpy]\n",
      "   ---------------------------------------- 0/2 [numpy]\n",
      "   ---------------------------------------- 0/2 [numpy]\n",
      "   ---------------------------------------- 0/2 [numpy]\n",
      "   ---------------------------------------- 0/2 [numpy]\n",
      "   ---------------------------------------- 0/2 [numpy]\n",
      "   ---------------------------------------- 0/2 [numpy]\n",
      "   ---------------------------------------- 0/2 [numpy]\n",
      "   ---------------------------------------- 0/2 [numpy]\n",
      "   ---------------------------------------- 0/2 [numpy]\n",
      "   ---------------------------------------- 0/2 [numpy]\n",
      "   ---------------------------------------- 0/2 [numpy]\n",
      "   ---------------------------------------- 0/2 [numpy]\n",
      "   ---------------------------------------- 0/2 [numpy]\n",
      "   ---------------------------------------- 0/2 [numpy]\n",
      "   ---------------------------------------- 0/2 [numpy]\n",
      "   ---------------------------------------- 0/2 [numpy]\n",
      "   ---------------------------------------- 0/2 [numpy]\n",
      "   ---------------------------------------- 0/2 [numpy]\n",
      "   ---------------------------------------- 0/2 [numpy]\n",
      "   ---------------------------------------- 0/2 [numpy]\n",
      "   ---------------------------------------- 0/2 [numpy]\n",
      "   ---------------------------------------- 0/2 [numpy]\n",
      "   ---------------------------------------- 0/2 [numpy]\n",
      "   ---------------------------------------- 0/2 [numpy]\n",
      "   ---------------------------------------- 0/2 [numpy]\n",
      "   ---------------------------------------- 0/2 [numpy]\n",
      "   ---------------------------------------- 0/2 [numpy]\n",
      "   ---------------------------------------- 0/2 [numpy]\n",
      "   ---------------------------------------- 0/2 [numpy]\n",
      "   ---------------------------------------- 0/2 [numpy]\n",
      "   ---------------------------------------- 0/2 [numpy]\n",
      "   ---------------------------------------- 0/2 [numpy]\n",
      "   ---------------------------------------- 0/2 [numpy]\n",
      "   ---------------------------------------- 0/2 [numpy]\n",
      "   ---------------------------------------- 0/2 [numpy]\n",
      "   ---------------------------------------- 0/2 [numpy]\n",
      "   ---------------------------------------- 0/2 [numpy]\n",
      "   ---------------------------------------- 0/2 [numpy]\n",
      "   ---------------------------------------- 0/2 [numpy]\n",
      "   ---------------------------------------- 0/2 [numpy]\n",
      "   ---------------------------------------- 0/2 [numpy]\n",
      "   ---------------------------------------- 0/2 [numpy]\n",
      "   ---------------------------------------- 0/2 [numpy]\n",
      "   ---------------------------------------- 0/2 [numpy]\n",
      "   ---------------------------------------- 0/2 [numpy]\n",
      "   ---------------------------------------- 0/2 [numpy]\n",
      "   ---------------------------------------- 0/2 [numpy]\n",
      "   ---------------------------------------- 0/2 [numpy]\n",
      "   ---------------------------------------- 0/2 [numpy]\n",
      "   ---------------------------------------- 0/2 [numpy]\n",
      "   ---------------------------------------- 0/2 [numpy]\n",
      "   ---------------------------------------- 0/2 [numpy]\n",
      "   ---------------------------------------- 0/2 [numpy]\n",
      "   ---------------------------------------- 0/2 [numpy]\n",
      "   ---------------------------------------- 0/2 [numpy]\n",
      "   ---------------------------------------- 0/2 [numpy]\n",
      "   ---------------------------------------- 0/2 [numpy]\n",
      "   ---------------------------------------- 0/2 [numpy]\n",
      "   ---------------------------------------- 0/2 [numpy]\n",
      "   ---------------------------------------- 0/2 [numpy]\n",
      "   ---------------------------------------- 0/2 [numpy]\n",
      "   ---------------------------------------- 0/2 [numpy]\n",
      "   ---------------------------------------- 0/2 [numpy]\n",
      "   ---------------------------------------- 0/2 [numpy]\n",
      "   -------------------- ------------------- 1/2 [opencv-python]\n",
      "   -------------------- ------------------- 1/2 [opencv-python]\n",
      "   -------------------- ------------------- 1/2 [opencv-python]\n",
      "   -------------------- ------------------- 1/2 [opencv-python]\n",
      "   -------------------- ------------------- 1/2 [opencv-python]\n",
      "   ---------------------------------------- 2/2 [opencv-python]\n",
      "\n",
      "Successfully installed numpy-2.2.6 opencv-python-4.12.0.88\n",
      "Note: you may need to restart the kernel to use updated packages.\n"
     ]
    },
    {
     "name": "stderr",
     "output_type": "stream",
     "text": [
      "  WARNING: Failed to remove contents in a temporary directory 'C:\\Users\\Dell\\AppData\\Local\\Programs\\Python\\Python313\\Lib\\site-packages\\~umpy.libs'.\n",
      "  You can safely remove it manually.\n",
      "  WARNING: Failed to remove contents in a temporary directory 'C:\\Users\\Dell\\AppData\\Local\\Programs\\Python\\Python313\\Lib\\site-packages\\~umpy'.\n",
      "  You can safely remove it manually.\n",
      "\n",
      "[notice] A new release of pip is available: 25.1.1 -> 25.2\n",
      "[notice] To update, run: python.exe -m pip install --upgrade pip\n"
     ]
    }
   ],
   "source": [
    "%pip install opencv-python"
   ]
  },
  {
   "cell_type": "code",
   "execution_count": 31,
   "id": "0d63613f",
   "metadata": {},
   "outputs": [
    {
     "name": "stdout",
     "output_type": "stream",
     "text": [
      "RGB image detected.\n"
     ]
    }
   ],
   "source": [
    "import cv2\n",
    "\n",
    "def img_to_array(path):\n",
    "    img = cv2.imread(path)\n",
    "\n",
    "    if img is None:\n",
    "        print(\"Image not found or path is incorrect!\")\n",
    "        return\n",
    "\n",
    "    if len(img.shape) == 2 or img.shape[2] == 1:\n",
    "        print(\"Grayscale image detected.\")\n",
    "        np.savetxt(\"grayscale image.txt\", img, fmt='%d')\n",
    "        np.save(\"grayscale shape.npy\", img.shape)\n",
    "    else:\n",
    "        print(\"RGB image detected.\")\n",
    "        imgrgb = cv2.cvtColor(img, cv2.COLOR_BGR2RGB)\n",
    "        np.savetxt(\"rgb image.txt\", imgrgb.reshape(-1, 3), fmt='%d')\n",
    "        np.save(\"rgb shape.npy\", imgrgb.shape)\n",
    "\n",
    "img_to_array(r\"C:\\Users\\Dell\\Desktop\\Python\\imageassignment1.png\")\n",
    "\n"
   ]
  },
  {
   "cell_type": "markdown",
   "id": "5855165c",
   "metadata": {},
   "source": [
    "Q4. (b) Load the saved file into jupyter notebook,"
   ]
  },
  {
   "cell_type": "code",
   "execution_count": 35,
   "id": "67b40079",
   "metadata": {},
   "outputs": [],
   "source": [
    "rgb_flat = np.loadtxt(\"rgb image.txt\", dtype=np.uint8)\n",
    "rgb_shape = tuple(np.load(\"rgb shape.npy\"))\n",
    "rgb_image = rgb_flat.reshape(rgb_shape)\n",
    "\n"
   ]
  }
 ],
 "metadata": {
  "kernelspec": {
   "display_name": "Python 3",
   "language": "python",
   "name": "python3"
  },
  "language_info": {
   "codemirror_mode": {
    "name": "ipython",
    "version": 3
   },
   "file_extension": ".py",
   "mimetype": "text/x-python",
   "name": "python",
   "nbconvert_exporter": "python",
   "pygments_lexer": "ipython3",
   "version": "3.13.5"
  }
 },
 "nbformat": 4,
 "nbformat_minor": 5
}
